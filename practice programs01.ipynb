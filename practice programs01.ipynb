{
 "cells": [
  {
   "cell_type": "markdown",
   "id": "202ebd85-1e64-4308-a699-d46476214b94",
   "metadata": {},
   "source": [
    "# Write a program to check whether a number is positive or negative.\n"
   ]
  },
  {
   "cell_type": "code",
   "execution_count": 2,
   "id": "2cf87ebd-6104-4069-873b-e15e79416a9e",
   "metadata": {},
   "outputs": [
    {
     "name": "stdin",
     "output_type": "stream",
     "text": [
      " -10\n"
     ]
    },
    {
     "name": "stdout",
     "output_type": "stream",
     "text": [
      "Number is not positive\n"
     ]
    }
   ],
   "source": [
    "num=int(input())\n",
    "if num>=0:\n",
    "    print(\"Number is positive\")\n",
    "else:\n",
    "    print(\"Number is not positive\")\n"
   ]
  },
  {
   "cell_type": "markdown",
   "id": "c4cf289a-d002-484d-b9d3-ab91456d90e2",
   "metadata": {},
   "source": [
    "# Check whether a number is even or odd.\n"
   ]
  },
  {
   "cell_type": "code",
   "execution_count": 4,
   "id": "442d6ff9-8ac3-4bcc-ba3c-3268fe33e977",
   "metadata": {},
   "outputs": [
    {
     "name": "stdin",
     "output_type": "stream",
     "text": [
      " 4\n"
     ]
    },
    {
     "name": "stdout",
     "output_type": "stream",
     "text": [
      "Number is even\n"
     ]
    }
   ],
   "source": [
    "n1=int(input())\n",
    "if(n1%2==0):\n",
    "    print(\"Number is even\")\n",
    "else:\n",
    "    print(\"Number is odd\")"
   ]
  },
  {
   "cell_type": "markdown",
   "id": "fbe341d8-72fe-48fc-b1ce-5eed9ec2ff6d",
   "metadata": {},
   "source": [
    "# Find the greater of two numbers.\n"
   ]
  },
  {
   "cell_type": "code",
   "execution_count": 8,
   "id": "39807192-73f2-4a3a-b73f-3a83f85aec79",
   "metadata": {},
   "outputs": [
    {
     "name": "stdin",
     "output_type": "stream",
     "text": [
      " 10\n",
      " 8\n"
     ]
    },
    {
     "name": "stdout",
     "output_type": "stream",
     "text": [
      "a is greater than b\n"
     ]
    }
   ],
   "source": [
    "a=int(input())\n",
    "b=int(input())\n",
    "if a>b:\n",
    "    print(\"a is greater than b\")\n",
    "else:\n",
    "    print(\"b is greater than a\")"
   ]
  },
  {
   "cell_type": "markdown",
   "id": "7727927a-2080-45f7-9ecd-3c505e8ff623",
   "metadata": {},
   "source": [
    "# Find the largest among three numbers.\n"
   ]
  },
  {
   "cell_type": "code",
   "execution_count": 10,
   "id": "2c940d57-7273-4df9-aaff-48638f50522e",
   "metadata": {},
   "outputs": [
    {
     "name": "stdin",
     "output_type": "stream",
     "text": [
      "Enter the first number:  12\n",
      "Enter the second number:  8\n",
      "Enter the third number:  34\n"
     ]
    },
    {
     "name": "stdout",
     "output_type": "stream",
     "text": [
      "The largest number is: 34\n"
     ]
    }
   ],
   "source": [
    "n1 = int(input(\"Enter the first number: \"))\n",
    "n2 = int(input(\"Enter the second number: \"))\n",
    "n3 = int(input(\"Enter the third number: \"))\n",
    "\n",
    "# Compare and find the largest\n",
    "if n1 >= n2 and n1 >= n3:\n",
    "    print(f\"The largest number is: {n1}\")\n",
    "elif n2 >= n1 and n2 >= n3:\n",
    "    print(f\"The largest number is: {n2}\")\n",
    "else:\n",
    "    print(f\"The largest number is: {n3}\")"
   ]
  },
  {
   "cell_type": "markdown",
   "id": "fd6df3db-bab2-4add-b05f-017c49b35a32",
   "metadata": {},
   "source": [
    "# Check if a number is divisible by 5 and 11.\n"
   ]
  },
  {
   "cell_type": "code",
   "execution_count": 12,
   "id": "6cd6338e-8432-483d-876b-354ca650a647",
   "metadata": {},
   "outputs": [
    {
     "name": "stdin",
     "output_type": "stream",
     "text": [
      " 55\n"
     ]
    },
    {
     "name": "stdout",
     "output_type": "stream",
     "text": [
      "55 is divisible by both 5 and 11\n"
     ]
    }
   ],
   "source": [
    "num=int(input())\n",
    "if(num%5==0 and num%11==0):\n",
    "    print(f\"{num} is divisible by both 5 and 11\")\n",
    "else:\n",
    "    print(f\"{num} is not divisible by both 5 and 11\")"
   ]
  },
  {
   "cell_type": "markdown",
   "id": "0a4bafd5-5a6d-4d54-b9eb-dc0eb70efd1a",
   "metadata": {},
   "source": [
    "# Finding an year that is leap year or not"
   ]
  },
  {
   "cell_type": "code",
   "execution_count": 18,
   "id": "620efc5b-7d50-4b0c-8f90-c63f38fcbd89",
   "metadata": {},
   "outputs": [
    {
     "name": "stdin",
     "output_type": "stream",
     "text": [
      "Enter a year:  2004\n"
     ]
    },
    {
     "name": "stdout",
     "output_type": "stream",
     "text": [
      "2004 is a leap year.\n"
     ]
    }
   ],
   "source": [
    "year = int(input(\"Enter a year: \"))\n",
    "if (year % 4 == 0 and year % 100 != 0) or (year % 400 == 0):\n",
    "    print(f\"{year} is a leap year.\")\n",
    "else:\n",
    "    print(f\"{year} is not a leap year.\")"
   ]
  },
  {
   "cell_type": "markdown",
   "id": "a511826b-9daa-4953-890f-1eb87c8f9452",
   "metadata": {},
   "source": [
    "# Check whether a character is a vowel or a consonant\n"
   ]
  },
  {
   "cell_type": "code",
   "execution_count": 19,
   "id": "f146b60f-d0cc-46c6-a9f1-73dfc5f2b555",
   "metadata": {},
   "outputs": [
    {
     "name": "stdin",
     "output_type": "stream",
     "text": [
      "Enter a character:  v\n"
     ]
    },
    {
     "name": "stdout",
     "output_type": "stream",
     "text": [
      "v is a consonant.\n"
     ]
    }
   ],
   "source": [
    "ch = input(\"Enter a character: \")\n",
    "\n",
    "if ch in 'aeiouAEIOU':\n",
    "    print(f\"{ch} is a vowel.\")\n",
    "else:\n",
    "    print(f\"{ch} is a consonant.\")\n",
    "    "
   ]
  },
  {
   "cell_type": "markdown",
   "id": "34a22a29-c190-4b2a-a04d-772cc255e29e",
   "metadata": {},
   "source": [
    "# Check whether a number is a multiple of 3 or 7.\n"
   ]
  },
  {
   "cell_type": "code",
   "execution_count": 22,
   "id": "1000fa50-d9b6-43f3-9d36-7a88be205c18",
   "metadata": {},
   "outputs": [
    {
     "name": "stdin",
     "output_type": "stream",
     "text": [
      " 45\n"
     ]
    },
    {
     "name": "stdout",
     "output_type": "stream",
     "text": [
      "45 is not multiple of both 3 and 7\n"
     ]
    }
   ],
   "source": [
    "num=int(input())\n",
    "if(num%3==0 and num%7==0):\n",
    "    print(f\"{num} is multiple of both 3 and 7\")\n",
    "else:\n",
    "    print(f\"{num} is not multiple of both 3 and 7\")"
   ]
  },
  {
   "cell_type": "markdown",
   "id": "92e6e9d4-dec5-4ca8-b185-bd7f31cd9cde",
   "metadata": {},
   "source": [
    "# Check whether a character is uppercase, lowercase, digit, or special symbol."
   ]
  },
  {
   "cell_type": "code",
   "execution_count": 28,
   "id": "9f982665-7d4a-483e-9e0d-a9f0cfb8c0e7",
   "metadata": {},
   "outputs": [
    {
     "name": "stdin",
     "output_type": "stream",
     "text": [
      " $\n"
     ]
    },
    {
     "name": "stdout",
     "output_type": "stream",
     "text": [
      "Special symbol\n"
     ]
    }
   ],
   "source": [
    "ch = input()\n",
    "if ch.isupper():\n",
    "    print(\"Uppercase letter\")\n",
    "elif ch.islower():\n",
    "    print(\"Lowercase letter\")\n",
    "elif ch.isdigit():\n",
    "    print(\"Digit\")\n",
    "else:\n",
    "    print(\"Special symbol\")"
   ]
  },
  {
   "cell_type": "code",
   "execution_count": null,
   "id": "f1e86191-e888-47bb-bc11-51725021400c",
   "metadata": {},
   "outputs": [],
   "source": []
  }
 ],
 "metadata": {
  "kernelspec": {
   "display_name": "Python 3 (ipykernel)",
   "language": "python",
   "name": "python3"
  },
  "language_info": {
   "codemirror_mode": {
    "name": "ipython",
    "version": 3
   },
   "file_extension": ".py",
   "mimetype": "text/x-python",
   "name": "python",
   "nbconvert_exporter": "python",
   "pygments_lexer": "ipython3",
   "version": "3.13.5"
  }
 },
 "nbformat": 4,
 "nbformat_minor": 5
}
