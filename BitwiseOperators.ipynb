{
 "cells": [
  {
   "cell_type": "markdown",
   "id": "8e8cb38b-1d86-4268-8803-0ecd62f6663f",
   "metadata": {},
   "source": [
    "# Bitwise Operator"
   ]
  },
  {
   "cell_type": "code",
   "execution_count": 9,
   "id": "7345405d-7e5f-4dfc-aa37-6dfd1e799f3f",
   "metadata": {},
   "outputs": [
    {
     "name": "stdin",
     "output_type": "stream",
     "text": [
      " 20\n",
      " 3\n"
     ]
    },
    {
     "name": "stdout",
     "output_type": "stream",
     "text": [
      "0\n"
     ]
    }
   ],
   "source": [
    "a=int(input())\n",
    "b=int(input())\n",
    "print(a&b) #Bitwise And"
   ]
  },
  {
   "cell_type": "code",
   "execution_count": 10,
   "id": "dadc7d7d-2230-4183-ae55-a4777ba9d56d",
   "metadata": {},
   "outputs": [
    {
     "name": "stdout",
     "output_type": "stream",
     "text": [
      "23\n"
     ]
    }
   ],
   "source": [
    "print(a|b)#Bitwise Or"
   ]
  },
  {
   "cell_type": "code",
   "execution_count": 12,
   "id": "d6956bba-fb2b-4dca-883b-62d06d149207",
   "metadata": {},
   "outputs": [
    {
     "name": "stdout",
     "output_type": "stream",
     "text": [
      "23\n"
     ]
    }
   ],
   "source": [
    "print(a^b)#Bitwise Xor"
   ]
  },
  {
   "cell_type": "code",
   "execution_count": 13,
   "id": "3406d931-fc3f-4ac6-9ab4-2e3f66da1514",
   "metadata": {},
   "outputs": [
    {
     "name": "stdout",
     "output_type": "stream",
     "text": [
      "2\n"
     ]
    }
   ],
   "source": [
    "print(a>>b) #leftShift"
   ]
  },
  {
   "cell_type": "code",
   "execution_count": 14,
   "id": "2b6dafee-315d-4665-a200-6a569bbdc79e",
   "metadata": {},
   "outputs": [
    {
     "name": "stdout",
     "output_type": "stream",
     "text": [
      "160\n"
     ]
    }
   ],
   "source": [
    "print(a<<b)#RightShift"
   ]
  },
  {
   "cell_type": "code",
   "execution_count": null,
   "id": "721b7426-4799-4b2f-9c3b-fc89e1687627",
   "metadata": {},
   "outputs": [],
   "source": []
  }
 ],
 "metadata": {
  "kernelspec": {
   "display_name": "Python 3 (ipykernel)",
   "language": "python",
   "name": "python3"
  },
  "language_info": {
   "codemirror_mode": {
    "name": "ipython",
    "version": 3
   },
   "file_extension": ".py",
   "mimetype": "text/x-python",
   "name": "python",
   "nbconvert_exporter": "python",
   "pygments_lexer": "ipython3",
   "version": "3.13.5"
  }
 },
 "nbformat": 4,
 "nbformat_minor": 5
}
