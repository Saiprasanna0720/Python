{
 "cells": [
  {
   "cell_type": "markdown",
   "id": "e095218a-f7bb-4051-a9ea-52e86cb28069",
   "metadata": {},
   "source": [
    "# Tuple\n",
    "- it is oedered collection of different data type elements\n",
    "- it is defined with '()'\n",
    "- it is immutable\n",
    "- it is Index based & Slicable\n",
    "- tuple is hetrogeneous data type\n",
    "- it allows duplicate values"
   ]
  },
  {
   "cell_type": "code",
   "execution_count": null,
   "id": "1795472f-44fb-4048-aa20-2d7372f26a5e",
   "metadata": {},
   "outputs": [],
   "source": [
    "#example\n",
    "t=(1,2,3,'a','h','prasanna',[4,5,6],3.8)"
   ]
  },
  {
   "cell_type": "code",
   "execution_count": 4,
   "id": "7ef6e058-0dc4-401c-91db-812fc9669110",
   "metadata": {},
   "outputs": [
    {
     "ename": "TypeError",
     "evalue": "'tuple' object does not support item assignment",
     "output_type": "error",
     "traceback": [
      "\u001b[31m---------------------------------------------------------------------------\u001b[39m",
      "\u001b[31mTypeError\u001b[39m                                 Traceback (most recent call last)",
      "\u001b[36mCell\u001b[39m\u001b[36m \u001b[39m\u001b[32mIn[4]\u001b[39m\u001b[32m, line 3\u001b[39m\n\u001b[32m      1\u001b[39m \u001b[38;5;66;03m# immutable\u001b[39;00m\n\u001b[32m      2\u001b[39m t=(\u001b[32m1\u001b[39m,\u001b[32m2\u001b[39m,\u001b[32m3\u001b[39m,\u001b[33m'\u001b[39m\u001b[33ma\u001b[39m\u001b[33m'\u001b[39m,\u001b[33m'\u001b[39m\u001b[33mh\u001b[39m\u001b[33m'\u001b[39m,\u001b[33m'\u001b[39m\u001b[33mprasanna\u001b[39m\u001b[33m'\u001b[39m,[\u001b[32m4\u001b[39m,\u001b[32m5\u001b[39m,\u001b[32m6\u001b[39m],\u001b[32m3.8\u001b[39m)\n\u001b[32m----> \u001b[39m\u001b[32m3\u001b[39m \u001b[43mt\u001b[49m\u001b[43m[\u001b[49m\u001b[32;43m0\u001b[39;49m\u001b[43m]\u001b[49m=\u001b[32m100\u001b[39m\n",
      "\u001b[31mTypeError\u001b[39m: 'tuple' object does not support item assignment"
     ]
    }
   ],
   "source": [
    "# immutable\n",
    "t=(1,2,3,'a','h','prasanna',[4,5,6],3.8)\n",
    "t[0]=100"
   ]
  },
  {
   "cell_type": "code",
   "execution_count": 18,
   "id": "7fb6480c-702c-46d3-8bf1-fe2e9066f747",
   "metadata": {},
   "outputs": [
    {
     "name": "stdout",
     "output_type": "stream",
     "text": [
      "h\n",
      "[4, 5, 6]\n",
      "(3, 'a', 'h', 'prasanna', [4, 5, 6])\n",
      "()\n",
      "(1, 7)\n",
      "('h', 'prasanna', [4, 5, 6], 7, 1, 3.8)\n",
      "([4, 5, 6], 7)\n"
     ]
    }
   ],
   "source": [
    "#index based\n",
    "t=(1,2,3,'a','h','prasanna',[4,5,6], 7,1,3.8)\n",
    "print(t[4])\n",
    "print(t[-4])\n",
    "print(t[2:-3:1])#slicing syntax-start:end:stepcount\n",
    "print(t[-2:6:1])\n",
    "print(t[-2:6:-1])\n",
    "print(t[4:100])\n",
    "print(t[-4:8:1])"
   ]
  },
  {
   "cell_type": "code",
   "execution_count": 19,
   "id": "f03ea729-5176-47b1-89c1-7495a7bf5e0e",
   "metadata": {},
   "outputs": [
    {
     "name": "stdout",
     "output_type": "stream",
     "text": [
      "<class 'tuple'> <class 'tuple'> <class 'tuple'> <class 'tuple'>\n"
     ]
    }
   ],
   "source": [
    "#empty tuple\n",
    "t1=()\n",
    "t2=tuple()\n",
    "#tuple with multiple values\n",
    "t3=(1,2,3,\"codegnan\")\n",
    "#tuple with single value\n",
    "t4=(56,)\n",
    "print(type(t1),type(t2),type(t3),type(t4))\n"
   ]
  },
  {
   "cell_type": "code",
   "execution_count": 20,
   "id": "a2b6b317-6092-40f9-a9e6-d47c12c7f46e",
   "metadata": {},
   "outputs": [
    {
     "name": "stdin",
     "output_type": "stream",
     "text": [
      " 20\n"
     ]
    },
    {
     "name": "stdout",
     "output_type": "stream",
     "text": [
      "(20,)\n"
     ]
    }
   ],
   "source": [
    "#read input from user\n",
    "t=tuple(map(int,input().split()))\n",
    "print(t)\n"
   ]
  },
  {
   "cell_type": "code",
   "execution_count": 21,
   "id": "cc37752e-2c45-4c4b-810a-b3d56ff5c3a0",
   "metadata": {},
   "outputs": [
    {
     "name": "stdout",
     "output_type": "stream",
     "text": [
      "(1, 2, 'hello', 3, 4, 'bye')\n"
     ]
    }
   ],
   "source": [
    "#tuple concatination\n",
    "t1=(1,2,'hello')\n",
    "t2=(3,4,'bye')\n",
    "t3=t1+t2\n",
    "print(t3)"
   ]
  },
  {
   "cell_type": "code",
   "execution_count": 22,
   "id": "ac046cff-c751-45dd-9bae-ce6c803bf075",
   "metadata": {},
   "outputs": [
    {
     "name": "stdout",
     "output_type": "stream",
     "text": [
      "(1, 2, 'prasanna', 1, 2, 'prasanna', 1, 2, 'prasanna', 1, 2, 'prasanna', 1, 2, 'prasanna', 1, 2, 'prasanna')\n"
     ]
    }
   ],
   "source": [
    "#tuple repeat using'*'\n",
    "t1=(1,2,'prasanna')\n",
    "print(t1*6)"
   ]
  },
  {
   "cell_type": "markdown",
   "id": "45c5f227-bc9d-4198-9984-cde7d4c1cb69",
   "metadata": {},
   "source": [
    "# Tuple methods\n",
    "- index(value)- returns the position of the value in the tuple otherwise **ValueError**\n",
    "- count(value)-returns total occurances of a value in the tuple"
   ]
  },
  {
   "cell_type": "code",
   "execution_count": 26,
   "id": "2c16c8f7-5ff2-4569-a516-d0b01ec3e66b",
   "metadata": {},
   "outputs": [
    {
     "name": "stdout",
     "output_type": "stream",
     "text": [
      "0\n",
      "2\n"
     ]
    }
   ],
   "source": [
    "t=(1,2,3,'a','h','prasanna',[4,5,6],7,1,3.8,2,2,2)\n",
    "ind=t.index(1)\n",
    "count_1=t.count(1)\n",
    "print(ind)\n",
    "print(count_1)"
   ]
  },
  {
   "cell_type": "code",
   "execution_count": 27,
   "id": "1f37352e-aa71-4b8a-b7ab-b1d786309db7",
   "metadata": {},
   "outputs": [
    {
     "name": "stdout",
     "output_type": "stream",
     "text": [
      "1 90 269 6\n"
     ]
    }
   ],
   "source": [
    "#build in functions\n",
    "#min(),max(),sum(),len()\n",
    "t=(1,23,54,90,56,45)\n",
    "min_val=min(t)\n",
    "max_val=max(t)\n",
    "sum_tuple=sum(t)\n",
    "length=len(t)\n",
    "print(min_val,max_val,sum_tuple,length)\n"
   ]
  },
  {
   "cell_type": "code",
   "execution_count": 30,
   "id": "e76cfa0d-96a0-4190-b682-ad19370b6d6d",
   "metadata": {},
   "outputs": [
    {
     "name": "stdout",
     "output_type": "stream",
     "text": [
      "[1, 23, 45, 54, 56, 90]\n"
     ]
    }
   ],
   "source": [
    "#sorted()-when performed sorted operation the return type will be in list\n",
    "t=(1,23,54,90,56,45)\n",
    "n_t=sorted(t,reverse=False)\n",
    "print(n_t)"
   ]
  },
  {
   "cell_type": "code",
   "execution_count": null,
   "id": "62167520-dfda-4d55-a600-051d9c7be059",
   "metadata": {},
   "outputs": [],
   "source": []
  }
 ],
 "metadata": {
  "kernelspec": {
   "display_name": "Python 3 (ipykernel)",
   "language": "python",
   "name": "python3"
  },
  "language_info": {
   "codemirror_mode": {
    "name": "ipython",
    "version": 3
   },
   "file_extension": ".py",
   "mimetype": "text/x-python",
   "name": "python",
   "nbconvert_exporter": "python",
   "pygments_lexer": "ipython3",
   "version": "3.13.5"
  }
 },
 "nbformat": 4,
 "nbformat_minor": 5
}
