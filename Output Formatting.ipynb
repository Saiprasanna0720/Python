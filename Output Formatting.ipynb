{
 "cells": [
  {
   "cell_type": "markdown",
   "id": "49c70e71-3933-4e08-a5cd-22f0c3fe19de",
   "metadata": {},
   "source": [
    "# Types of Output Formatting\n",
    "- Using old style formatting [using commas]\n",
    "- using modulo operator\n",
    "- using F-format method\n",
    "- using Dot Format method\n",
    "  "
   ]
  },
  {
   "cell_type": "code",
   "execution_count": 2,
   "id": "67d8f213-8abb-4e36-958a-503e3144a86f",
   "metadata": {},
   "outputs": [
    {
     "name": "stdout",
     "output_type": "stream",
     "text": [
      "Name: siva age: 25 email: siva@email\n"
     ]
    }
   ],
   "source": [
    "#Using old style formatting [using commas]\n",
    "name='siva'\n",
    "age=25\n",
    "email='siva@email'\n",
    "#Name:siva age:25 email:siva@email\n",
    "print('Name:',name,'age:',age,'email:',email)"
   ]
  },
  {
   "cell_type": "markdown",
   "id": "64417b8f-dd61-41b6-a6d9-b5bc0b71ea99",
   "metadata": {},
   "source": [
    "# Using modulo operator\n",
    "# format specifiers\n",
    "- %d-integers\n",
    "- %d-float\n",
    "- %s-string"
   ]
  },
  {
   "cell_type": "code",
   "execution_count": 4,
   "id": "aacb1fed-5b53-4c08-b71f-82d77d6bab40",
   "metadata": {},
   "outputs": [
    {
     "name": "stdout",
     "output_type": "stream",
     "text": [
      "Name is siva,age is 25 and email is siva@email\n"
     ]
    }
   ],
   "source": [
    "#using modulo operator\n",
    "name='siva'\n",
    "age=25\n",
    "email='siva@email'\n",
    "print('Name is %s,age is %d and email is %s'%(name,age,email))"
   ]
  },
  {
   "cell_type": "code",
   "execution_count": 8,
   "id": "cb9b0e80-1b83-40bd-ba87-343172426c88",
   "metadata": {},
   "outputs": [
    {
     "name": "stdout",
     "output_type": "stream",
     "text": [
      "Name is prasanna,age is 21 and email is prasanna@gmail\n"
     ]
    }
   ],
   "source": [
    "# multiple values\n",
    "name,age,email=\"prasanna\",21,\"prasanna@gmail\"\n",
    "print('Name is %s,age is %d and email is %s'%(name,age,email))"
   ]
  },
  {
   "cell_type": "code",
   "execution_count": 9,
   "id": "dbd7a4d0-813c-4282-966d-a1d56652c3b9",
   "metadata": {},
   "outputs": [
    {
     "name": "stdout",
     "output_type": "stream",
     "text": [
      "name is prasanna,val is 21.89,and email is prasanna@gmail\n"
     ]
    }
   ],
   "source": [
    "#using F-format method\n",
    "name=\"prasanna\"\n",
    "value=21.89\n",
    "email=\"prasanna@gmail\"\n",
    "print(f\"name is {name},val is {value},and email is {email}\")\n"
   ]
  },
  {
   "cell_type": "code",
   "execution_count": 12,
   "id": "06c9ba74-d61f-4d57-a891-50a914b67c24",
   "metadata": {},
   "outputs": [
    {
     "name": "stdout",
     "output_type": "stream",
     "text": [
      "name is prasanna,val is 21.89,and email is prasanna@gmail\n"
     ]
    }
   ],
   "source": [
    "# particular number of decimal values in float datatype\n",
    "name=\"prasanna\"\n",
    "value=21.89\n",
    "email=\"prasanna@gmail\"\n",
    "print(f\"name is {name},val is {value:.2f},and email is {email}\")\n"
   ]
  },
  {
   "cell_type": "code",
   "execution_count": 16,
   "id": "dd47ed9e-9991-40f4-931d-b9259e0e675a",
   "metadata": {},
   "outputs": [
    {
     "name": "stdout",
     "output_type": "stream",
     "text": [
      "Name is prasanna,age is 21 and email is prasanna@gmail\n"
     ]
    }
   ],
   "source": [
    "#using Dot format\n",
    "name=\"prasanna\"\n",
    "value=21.89\n",
    "email=\"prasanna@gmail\"\n",
    "print(\"Name is {},age is {} and email is {}\".format(name,age,email))"
   ]
  }
 ],
 "metadata": {
  "kernelspec": {
   "display_name": "Python 3 (ipykernel)",
   "language": "python",
   "name": "python3"
  },
  "language_info": {
   "codemirror_mode": {
    "name": "ipython",
    "version": 3
   },
   "file_extension": ".py",
   "mimetype": "text/x-python",
   "name": "python",
   "nbconvert_exporter": "python",
   "pygments_lexer": "ipython3",
   "version": "3.13.5"
  }
 },
 "nbformat": 4,
 "nbformat_minor": 5
}
