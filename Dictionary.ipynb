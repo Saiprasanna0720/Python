{
 "cells": [
  {
   "cell_type": "markdown",
   "id": "00057249-1643-4a90-af2f-f94108682b3d",
   "metadata": {},
   "source": [
    "# Dictionary\n",
    "- Dictionary is unordered collection of key value pairs\n",
    "- Dictionary keys are unique and values allows duplicates\n",
    "- Represented with '{}'------'{key:value}'\n",
    "- It is non index based\n",
    "- Values are accessed with keys\n"
   ]
  },
  {
   "cell_type": "code",
   "execution_count": 9,
   "id": "47eb289d-ec29-49d4-9d7f-6dd64a7cf7ef",
   "metadata": {},
   "outputs": [
    {
     "data": {
      "text/plain": [
       "dict_keys([1, 'A', 6, (1, 2), 5])"
      ]
     },
     "execution_count": 9,
     "metadata": {},
     "output_type": "execute_result"
    }
   ],
   "source": [
    "d={1:'a','A':2,6:4,(1,2):4,5:[1,2,(3,4),5]}\n",
    "d.keys()\n"
   ]
  },
  {
   "cell_type": "code",
   "execution_count": 8,
   "id": "18b1b740-c55e-4696-8dbf-34f925268af9",
   "metadata": {},
   "outputs": [
    {
     "data": {
      "text/plain": [
       "dict_values(['a', 2, 4, 4, [1, 2, (3, 4), 5]])"
      ]
     },
     "execution_count": 8,
     "metadata": {},
     "output_type": "execute_result"
    }
   ],
   "source": [
    "d.values()"
   ]
  },
  {
   "cell_type": "code",
   "execution_count": 11,
   "id": "d0464fe9-caff-4dfd-b54e-931cd25ebeea",
   "metadata": {},
   "outputs": [
    {
     "name": "stdout",
     "output_type": "stream",
     "text": [
      "{1: 'a', 'A': 10, 6: 4, (1, 2): 4, 5: [1, 2, (3, 4), 5]}\n"
     ]
    }
   ],
   "source": [
    "d={1:'a','A':2,6:4,(1,2):4,5:[1,2,(3,4),5],'A':10}\n",
    "print(d)"
   ]
  },
  {
   "cell_type": "code",
   "execution_count": 12,
   "id": "c4e9330c-5a1c-409f-8ea3-f66e719f357f",
   "metadata": {},
   "outputs": [
    {
     "data": {
      "text/plain": [
       "'a'"
      ]
     },
     "execution_count": 12,
     "metadata": {},
     "output_type": "execute_result"
    }
   ],
   "source": [
    "d[1]"
   ]
  },
  {
   "cell_type": "code",
   "execution_count": 2,
   "id": "b1082c29-0410-46c2-8124-d7e24a9e7e58",
   "metadata": {},
   "outputs": [
    {
     "name": "stdout",
     "output_type": "stream",
     "text": [
      "<class 'dict'> <class 'dict'> <class 'dict'>\n"
     ]
    }
   ],
   "source": [
    "#empty dictionary\n",
    "d={}\n",
    "d1=dict()\n",
    "#dictionary with values\n",
    "d2={1:'a','A':2,6:4,(1,2):4,5:[1,2,(3,4),5]}\n",
    "\n",
    "print(type(d),type(d1),type(d2))"
   ]
  },
  {
   "cell_type": "code",
   "execution_count": 15,
   "id": "81a2f8ec-25a1-477a-b112-4cfe7796e9a9",
   "metadata": {},
   "outputs": [
    {
     "name": "stdout",
     "output_type": "stream",
     "text": [
      "[1, 2, (3, 4), 5]\n",
      "a\n",
      "2\n"
     ]
    }
   ],
   "source": [
    "d={1:'a','A':2,6:4,(1,2):4,5:[1,2,(3,4),5]}\n",
    "print(d[5])\n",
    "print(d[1])\n",
    "print(d['A'])\n"
   ]
  },
  {
   "cell_type": "markdown",
   "id": "75a5a9cc-e9ce-42ba-a3cf-9b311a990cf2",
   "metadata": {},
   "source": [
    "# Dictionary Methods\n",
    "- keys()-returns the keys of dictionary\n",
    "- values()-returns values of dicti0nary\n",
    "- items()-returns list of tuple of key value pairs\n"
   ]
  },
  {
   "cell_type": "code",
   "execution_count": 4,
   "id": "1e4b35bb-d46a-4828-8eff-a37b9aabd6e1",
   "metadata": {},
   "outputs": [
    {
     "name": "stdout",
     "output_type": "stream",
     "text": [
      "<class 'dict_keys'> <class 'dict_values'> <class 'dict_items'>\n"
     ]
    }
   ],
   "source": [
    "d={'language':'python','version':'3.13.5','level':'high level'}\n",
    "keys=d.keys()\n",
    "values=d.values()\n",
    "items=d.items()\n",
    "print(type(keys),type(values),type(items))\n"
   ]
  },
  {
   "cell_type": "code",
   "execution_count": 6,
   "id": "9694a8e6-ac12-4258-86e1-9728a9bfee73",
   "metadata": {},
   "outputs": [
    {
     "name": "stdout",
     "output_type": "stream",
     "text": [
      "<class 'dict_keys'>\n",
      "dict_keys(['language', 'version', 'level'])\n"
     ]
    },
    {
     "ename": "TypeError",
     "evalue": "'dict_keys' object is not subscriptable",
     "output_type": "error",
     "traceback": [
      "\u001b[31m---------------------------------------------------------------------------\u001b[39m",
      "\u001b[31mTypeError\u001b[39m                                 Traceback (most recent call last)",
      "\u001b[36mCell\u001b[39m\u001b[36m \u001b[39m\u001b[32mIn[6]\u001b[39m\u001b[32m, line 3\u001b[39m\n\u001b[32m      1\u001b[39m \u001b[38;5;28mprint\u001b[39m(\u001b[38;5;28mtype\u001b[39m(keys))\n\u001b[32m      2\u001b[39m \u001b[38;5;28mprint\u001b[39m(keys)\n\u001b[32m----> \u001b[39m\u001b[32m3\u001b[39m \u001b[38;5;28mprint\u001b[39m(\u001b[43mkeys\u001b[49m\u001b[43m[\u001b[49m\u001b[32;43m0\u001b[39;49m\u001b[43m]\u001b[49m)\n",
      "\u001b[31mTypeError\u001b[39m: 'dict_keys' object is not subscriptable"
     ]
    }
   ],
   "source": [
    "print(type(keys))\n",
    "print(keys)\n",
    "print(keys[0])"
   ]
  },
  {
   "cell_type": "code",
   "execution_count": 8,
   "id": "62ee792e-54a8-422f-9563-439e4b3657a9",
   "metadata": {},
   "outputs": [
    {
     "name": "stdout",
     "output_type": "stream",
     "text": [
      "<class 'list'>\n",
      "['language', 'version', 'level']\n",
      "version\n"
     ]
    }
   ],
   "source": [
    "list_keys=list(keys)\n",
    "print(type(list_keys))\n",
    "print(list_keys)\n",
    "print(list_keys[1])\n",
    "      "
   ]
  },
  {
   "cell_type": "code",
   "execution_count": 9,
   "id": "6bb7391d-0244-4afc-a2f8-01ded05f3c55",
   "metadata": {},
   "outputs": [
    {
     "name": "stdout",
     "output_type": "stream",
     "text": [
      "<class 'dict_keys'>\n",
      "dict_keys(['language', 'version', 'level'])\n",
      "<class 'list'>\n",
      "[('language', 'python'), ('version', '3.13.5'), ('level', 'high level')]\n",
      "('version', '3.13.5')\n"
     ]
    }
   ],
   "source": [
    "items=d.items()\n",
    "print(type(keys))\n",
    "print(keys)\n",
    "#dict_items to list type conversion\n",
    "items_list=list(items)\n",
    "print(type(items_list))\n",
    "print(items_list)\n",
    "print(items_list[1])\n",
    "\n"
   ]
  },
  {
   "cell_type": "markdown",
   "id": "2f42a4ac-f5cb-45af-878c-d9daefd69b4a",
   "metadata": {},
   "source": [
    "- pop(key)-returns the value if key is present in the dictionary,otherwise error\n",
    "- popitem()-returns and removes the last updated item from dictionary\n"
   ]
  },
  {
   "cell_type": "code",
   "execution_count": 11,
   "id": "2fb286c2-47b1-43f5-9ef6-7a2f0f907fd8",
   "metadata": {},
   "outputs": [
    {
     "name": "stdout",
     "output_type": "stream",
     "text": [
      "3.13.5\n",
      "{'language': 'python', 'level': 'high level'}\n"
     ]
    }
   ],
   "source": [
    "d={'language':'python','version':'3.13.5','level':'high level'}\n",
    "val=d.pop('version')\n",
    "print(val)\n",
    "print(d)"
   ]
  },
  {
   "cell_type": "code",
   "execution_count": 12,
   "id": "8ecbb5f9-0c4b-44f5-b0bd-880e7deb9631",
   "metadata": {},
   "outputs": [
    {
     "name": "stdout",
     "output_type": "stream",
     "text": [
      "('b', 2)\n"
     ]
    }
   ],
   "source": [
    "d={'language':'python','version':'3.13.5','level':'high level',1:1,'b':2}\n",
    "print(d.popitem())\n",
    "\n"
   ]
  },
  {
   "cell_type": "code",
   "execution_count": 13,
   "id": "fbbbafc4-b5eb-45d0-8f1b-5f3f6df914f0",
   "metadata": {},
   "outputs": [
    {
     "name": "stdout",
     "output_type": "stream",
     "text": [
      "{'language': 'Java', 'version': '3.13.5', 'level': 'high level', 'A': 1}\n"
     ]
    }
   ],
   "source": [
    "##Accessing and updating the values\n",
    "d={'language':'python','version':'3.13.5','level':'high level'}\n",
    "d['A']=1\n",
    "d['language']='Java'\n",
    "print(d)"
   ]
  },
  {
   "cell_type": "markdown",
   "id": "e67b2d41-e7e3-4603-a982-d5c3e800b601",
   "metadata": {},
   "source": [
    "- get(key,default)-Returns the value of key,otherwise default value\n",
    "- Update(dictionary)-it updates dictionary with new items"
   ]
  },
  {
   "cell_type": "code",
   "execution_count": 15,
   "id": "c8219e66-95e3-438e-ba4d-7ebbaa3e8968",
   "metadata": {},
   "outputs": [
    {
     "name": "stdout",
     "output_type": "stream",
     "text": [
      "key is not in dictionary\n"
     ]
    }
   ],
   "source": [
    "#get(key,default)\n",
    "d={'language':'python','version':'3.13.5','level':'high level'}\n",
    "val=d.get('Z','key is not in dictionary')\n",
    "print(val)"
   ]
  },
  {
   "cell_type": "code",
   "execution_count": 22,
   "id": "e496b487-962f-4740-bdc8-025d575aa181",
   "metadata": {},
   "outputs": [
    {
     "name": "stdout",
     "output_type": "stream",
     "text": [
      "10\n",
      "None\n"
     ]
    }
   ],
   "source": [
    "val=d.get('Z','10')\n",
    "print(val)\n",
    "val=d.get('Z')\n",
    "print(val)"
   ]
  },
  {
   "cell_type": "code",
   "execution_count": 18,
   "id": "3b7fab08-7612-48e8-affe-e38d638b9652",
   "metadata": {},
   "outputs": [
    {
     "name": "stdout",
     "output_type": "stream",
     "text": [
      "{'language': 'python', 'version': '3.13.5', 'level': 'high level', 'lang': 'Java'}\n",
      "{'level': 'high level', 'lang': 'Java'}\n"
     ]
    }
   ],
   "source": [
    "#update(dictionary)\n",
    "d1={'language':'python','version':'3.13.5'}\n",
    "d2={'level':'high level','lang':'Java'}\n",
    "d1.update(d2)\n",
    "print(d1)\n",
    "print(d2)"
   ]
  },
  {
   "cell_type": "code",
   "execution_count": 20,
   "id": "155bf480-7fa6-4a92-a121-1af484cf7bab",
   "metadata": {},
   "outputs": [
    {
     "name": "stdout",
     "output_type": "stream",
     "text": [
      "{'language': 'python', 'version': '3.13.5', 'level': 'high level', 'lang': 'Java'}\n",
      "{'level': 'high level', 'lang': 'Java', 'language': 'python', 'version': '3.13.5'}\n"
     ]
    }
   ],
   "source": [
    "d2.update(d1)\n",
    "print(d1)\n",
    "print(d2)"
   ]
  },
  {
   "cell_type": "code",
   "execution_count": 24,
   "id": "eab08825-f3cc-48c3-8b73-12492343668b",
   "metadata": {},
   "outputs": [
    {
     "name": "stdout",
     "output_type": "stream",
     "text": [
      "None\n",
      "{}\n"
     ]
    }
   ],
   "source": [
    "d1={'language':'python','version':'3.13.5'} \n",
    "clear=d1.clear()\n",
    "print(clear)\n",
    "print(d1)\n"
   ]
  },
  {
   "cell_type": "code",
   "execution_count": 25,
   "id": "4567488e-680e-4f72-8164-c71956420a82",
   "metadata": {},
   "outputs": [
    {
     "data": {
      "text/plain": [
       "4"
      ]
     },
     "execution_count": 25,
     "metadata": {},
     "output_type": "execute_result"
    }
   ],
   "source": [
    "d={'a':[1,2,3,4],3:(40,5,6,7)}\n",
    "d['a'][3]"
   ]
  },
  {
   "cell_type": "code",
   "execution_count": 26,
   "id": "566d8103-8687-4e16-8af0-8218f9f449a4",
   "metadata": {},
   "outputs": [
    {
     "data": {
      "text/plain": [
       "6"
      ]
     },
     "execution_count": 26,
     "metadata": {},
     "output_type": "execute_result"
    }
   ],
   "source": [
    "d[3][2]"
   ]
  }
 ],
 "metadata": {
  "kernelspec": {
   "display_name": "Python 3 (ipykernel)",
   "language": "python",
   "name": "python3"
  },
  "language_info": {
   "codemirror_mode": {
    "name": "ipython",
    "version": 3
   },
   "file_extension": ".py",
   "mimetype": "text/x-python",
   "name": "python",
   "nbconvert_exporter": "python",
   "pygments_lexer": "ipython3",
   "version": "3.13.5"
  }
 },
 "nbformat": 4,
 "nbformat_minor": 5
}
