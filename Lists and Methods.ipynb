{
 "cells": [
  {
   "cell_type": "code",
   "execution_count": null,
   "id": "238d8ade-8939-42bb-b0e1-f9fb4b7f9700",
   "metadata": {},
   "outputs": [],
   "source": [
    "#List"
   ]
  },
  {
   "cell_type": "code",
   "execution_count": 2,
   "id": "034ace79-ebfc-4a65-85d7-b6a6e8780590",
   "metadata": {},
   "outputs": [
    {
     "name": "stdout",
     "output_type": "stream",
     "text": [
      "hi\n"
     ]
    }
   ],
   "source": [
    "l=[1,2,3,\"hi\"]\n",
    "print(l[3])\n"
   ]
  },
  {
   "cell_type": "code",
   "execution_count": null,
   "id": "84ec0936-b38b-442f-b11e-71258f5171c8",
   "metadata": {},
   "outputs": [],
   "source": []
  },
  {
   "cell_type": "code",
   "execution_count": 1,
   "id": "176eb09f-2b6a-4f6c-9cb1-4d8e589fd35a",
   "metadata": {},
   "outputs": [
    {
     "name": "stdout",
     "output_type": "stream",
     "text": [
      "<class 'str'> <class 'list'>\n",
      "['P', 'r', 'a', 's', 'a', 'n', 'n', 'a', ' ', 'A', 'm', 'a', 'r', 'a', 'p', 'a', 'l', 'l', 'i']\n"
     ]
    }
   ],
   "source": [
    "#String to list type conversion\n",
    "s='Prasanna Amarapalli'\n",
    "l=list(s)\n",
    "print(type(s),type(l))\n",
    "print(l)"
   ]
  },
  {
   "cell_type": "code",
   "execution_count": 12,
   "id": "0f93318a-c36a-4cd2-b275-2ba80e0991c1",
   "metadata": {},
   "outputs": [
    {
     "name": "stdin",
     "output_type": "stream",
     "text": [
      " 1 2 3  4\n"
     ]
    },
    {
     "name": "stdout",
     "output_type": "stream",
     "text": [
      "[1, 2, 3, 4]\n"
     ]
    }
   ],
   "source": [
    "#reading list of integers\n",
    "lst=list(map(int, input().split()))\n",
    "print(lst)\n"
   ]
  },
  {
   "cell_type": "code",
   "execution_count": 13,
   "id": "8c01bc16-8861-463f-803a-d225d05024a2",
   "metadata": {},
   "outputs": [
    {
     "name": "stdin",
     "output_type": "stream",
     "text": [
      " 1 2 3 sudha\n"
     ]
    },
    {
     "name": "stdout",
     "output_type": "stream",
     "text": [
      "['1', '2', '3', 'sudha']\n"
     ]
    }
   ],
   "source": [
    "#reading list of string  integers\n",
    "lst=list(map(str, input().split()))\n",
    "print(lst)\n"
   ]
  },
  {
   "cell_type": "markdown",
   "id": "f6dbf928-a9a4-47d0-8ac7-812e7d43fe8d",
   "metadata": {},
   "source": [
    "# List Concatination"
   ]
  },
  {
   "cell_type": "code",
   "execution_count": 2,
   "id": "18412c73-8329-4022-b72b-df5ed46fcc92",
   "metadata": {},
   "outputs": [
    {
     "name": "stdout",
     "output_type": "stream",
     "text": [
      "[1, 2, 3, 4, 5, 6]\n"
     ]
    }
   ],
   "source": [
    "\n",
    "l1=[1,2,3]\n",
    "l2=[4,5,6]\n",
    "print(l1+l2)"
   ]
  },
  {
   "cell_type": "code",
   "execution_count": 3,
   "id": "f8a21340-ca76-427b-a1c2-94dc09e0ff00",
   "metadata": {},
   "outputs": [
    {
     "name": "stdout",
     "output_type": "stream",
     "text": [
      "[1, 2, 3, 45]\n"
     ]
    }
   ],
   "source": [
    "\n",
    "l1=[1,2,3]\n",
    "l2=[45]\n",
    "print(l1+l2)"
   ]
  },
  {
   "cell_type": "markdown",
   "id": "4d903ff2-6b70-478f-901c-b5ddad0d3bdd",
   "metadata": {},
   "source": [
    "# List repeatation using '*'"
   ]
  },
  {
   "cell_type": "code",
   "execution_count": 8,
   "id": "344c8ffc-359e-47d9-ba26-b9c46a29125a",
   "metadata": {},
   "outputs": [
    {
     "name": "stdout",
     "output_type": "stream",
     "text": [
      "[1, 2, 3, 4, 1, 2, 3, 4, 1, 2, 3, 4, 1, 2, 3, 4]\n"
     ]
    }
   ],
   "source": [
    "l1=[1,2,3,4]\n",
    "print(l1*4)"
   ]
  },
  {
   "cell_type": "markdown",
   "id": "c16b337d-e229-47f9-8af8-c34c48843a71",
   "metadata": {},
   "source": [
    "## List methods\n",
    "- append(value)-it add the single value at the end of list\n",
    "- extend(iterable)-it add the iterable values at the end of list\n",
    "- insert(position,value)-add the position at specific position and followed values are right shifted\n",
    "- index(value)-returns the first position of value,otherwise ValueError\n",
    "- remove(value)-it removes value at first occurance position\n",
    "- pop()=returns and remove the pop value asper specific position,otherwise pops thelast value\n",
    "- clear()-removes all the values from list\n",
    "- del=removes the list\n",
    "- count(value)-returns the total occurance of the value in the list\n",
    "- len(list_name)=total elements in the list or length of list\n",
    "- min(list_name)-retuens the min value from the list\n",
    "- max(list_name)-returns the max value of list\n",
    "- sum(list_name)-sums all the elements in the list"
   ]
  },
  {
   "cell_type": "code",
   "execution_count": 13,
   "id": "2c801596-a9cc-4cc6-9b71-8d27ce453c06",
   "metadata": {},
   "outputs": [
    {
     "name": "stdout",
     "output_type": "stream",
     "text": [
      "After append operation: [1, 2, 3, 4.5, 'a', 'd', 2, 4, 100]\n"
     ]
    }
   ],
   "source": [
    "####Append\n",
    "l=[1,2,3,4.5,'a','d',2,4]\n",
    "l.append(100)\n",
    "print('After append operation: ,l)"
   ]
  },
  {
   "cell_type": "code",
   "execution_count": 15,
   "id": "5587e18b-33b8-47cb-8c1d-7095600cdcfa",
   "metadata": {},
   "outputs": [
    {
     "name": "stdout",
     "output_type": "stream",
     "text": [
      "After extend operation: [1, 2, 3, 4.5, 'a', 'd', 2, 4, 200, 100]\n"
     ]
    }
   ],
   "source": [
    "####Append\n",
    "l=[1,2,3,4.5,'a','d',2,4]\n",
    "l.extend([200,100])\n",
    "print('After extend operation:' ,l)"
   ]
  },
  {
   "cell_type": "code",
   "execution_count": 24,
   "id": "63e6f500-47af-4c89-826f-114d7ef1f6f3",
   "metadata": {},
   "outputs": [
    {
     "name": "stdout",
     "output_type": "stream",
     "text": [
      "After insert operation: [1, 2, 3, 4.5, 'codegnan', 'a', 'd', 2, 4]\n"
     ]
    }
   ],
   "source": [
    "####Insert\n",
    "l=[1,2,3,4.5,'a','d',2,4]\n",
    "l.insert(4,'codegnan')\n",
    "print('After insert operation:' ,l)"
   ]
  },
  {
   "cell_type": "code",
   "execution_count": 32,
   "id": "8ad0fb4b-f1a6-4265-820a-3f21cc157318",
   "metadata": {},
   "outputs": [
    {
     "name": "stdout",
     "output_type": "stream",
     "text": [
      "original List: [1, 2, 3, 4.5, 'codegnan', 'a', 2, 4]\n",
      "After remove operation: [1, 2, 3, 'd', 2]\n"
     ]
    }
   ],
   "source": [
    "##remove(),pop(),clear(),del\n",
    "a=[1, 2, 3, 4.5, 'codegnan', 'a', 2, 4]\n",
    "print(\"original List:\",a)\n",
    "a.remove(2)\n",
    "print(\"After remove operation:\",l)\n"
   ]
  },
  {
   "cell_type": "code",
   "execution_count": 28,
   "id": "4d72114f-7296-4445-9674-3ce1110c672f",
   "metadata": {},
   "outputs": [
    {
     "name": "stdout",
     "output_type": "stream",
     "text": [
      "After pop operation: [1, 2, 3, 'd', 2]\n"
     ]
    }
   ],
   "source": [
    "l.pop(3)\n",
    "\n"
   ]
  },
  {
   "cell_type": "markdown",
   "id": "fbc0cd8a-bb4b-4bec-b90f-e343ec474897",
   "metadata": {},
   "source": [
    "# Min,#Max,#Sum"
   ]
  },
  {
   "cell_type": "code",
   "execution_count": 35,
   "id": "144b6b41-4c38-43a2-be9d-e384968b00be",
   "metadata": {},
   "outputs": [
    {
     "name": "stdout",
     "output_type": "stream",
     "text": [
      "Min value is: 1\n",
      "Max value is: 78\n",
      "Sum of the list: 121\n"
     ]
    }
   ],
   "source": [
    "a=[1,3,5,34,78]\n",
    "min_val=min(a)\n",
    "max_val=max(a)\n",
    "sum_list=sum(a)\n",
    "print(\"Min value is:\",min_val)\n",
    "print(\"Max value is:\",max_val)\n",
    "print(\"Sum of the list:\",sum_list)\n"
   ]
  },
  {
   "cell_type": "code",
   "execution_count": 38,
   "id": "0b0a0f92-989d-4a87-84e5-55268af2662d",
   "metadata": {},
   "outputs": [
    {
     "name": "stdout",
     "output_type": "stream",
     "text": [
      "[78, 34, 5, 3, 1]\n"
     ]
    }
   ],
   "source": [
    "#reverse()-reverses the original list \n",
    "a=[1,3,5,34,78]\n",
    "a.reverse()\n",
    "print(a)\n"
   ]
  },
  {
   "cell_type": "code",
   "execution_count": 42,
   "id": "fe5ea2dd-5f7b-430a-97d8-1a7d9fa786f0",
   "metadata": {},
   "outputs": [
    {
     "name": "stdout",
     "output_type": "stream",
     "text": [
      "[1, 3, 5, 34, 78]\n"
     ]
    }
   ],
   "source": [
    "#sort()-it sorts the original list in particular order\n",
    "#ascending order sort\n",
    "a=[1,3,5,34,78]\n",
    "a.sort()\n",
    "\n",
    "print(a)\n",
    "\n"
   ]
  },
  {
   "cell_type": "code",
   "execution_count": 44,
   "id": "1683f199-61b8-4485-af46-fce125b7af01",
   "metadata": {},
   "outputs": [
    {
     "name": "stdout",
     "output_type": "stream",
     "text": [
      "[78, 34, 5, 3, 1]\n"
     ]
    }
   ],
   "source": [
    "#descending order sort\n",
    "a.sort(reverse=True)\n",
    "print(a)"
   ]
  },
  {
   "cell_type": "code",
   "execution_count": 50,
   "id": "401dba6a-375f-428c-a496-23c2a541d81b",
   "metadata": {},
   "outputs": [
    {
     "name": "stdout",
     "output_type": "stream",
     "text": [
      "[1, 2, 4, 9, 10, 12]\n",
      "[1, 2, 4, 9, 10, 12]\n"
     ]
    }
   ],
   "source": [
    "# Sorted()-it sort the list in particular order and it returns new sorted list of values\n",
    "b=[1,2,4,10,9,12]\n",
    "a=b.sort()\n",
    "print(b)\n",
    "new_list=sorted(b)\n",
    "print(new_list)"
   ]
  },
  {
   "cell_type": "code",
   "execution_count": null,
   "id": "6c43453f-72f4-4b2a-93d8-59726016a388",
   "metadata": {},
   "outputs": [],
   "source": [
    "##count(value),index(value)\n",
    "\n",
    "l=[1,2,3,10,19,200,23,3,2]\n"
   ]
  },
  {
   "cell_type": "code",
   "execution_count": 2,
   "id": "c3e367b3-5bd0-470a-a4ff-20d53abdd30b",
   "metadata": {},
   "outputs": [
    {
     "name": "stdout",
     "output_type": "stream",
     "text": [
      "6\n"
     ]
    }
   ],
   "source": [
    "#len(list_name)\n",
    "lst=[1,3,7,8,23,45]\n",
    "length=len(lst)\n",
    "print(length)"
   ]
  },
  {
   "cell_type": "code",
   "execution_count": 3,
   "id": "ffea9b00-bfef-47d2-9d13-ba9281bafb2f",
   "metadata": {},
   "outputs": [
    {
     "name": "stdout",
     "output_type": "stream",
     "text": [
      "5\n"
     ]
    }
   ],
   "source": [
    "# list length with nested list\n",
    "lst=[1,3,[7,8],23,45]\n",
    "length=len(lst)\n",
    "print(length)\n"
   ]
  },
  {
   "cell_type": "code",
   "execution_count": null,
   "id": "3aba105f-d544-45ca-ad1c-16e35542d638",
   "metadata": {},
   "outputs": [],
   "source": []
  }
 ],
 "metadata": {
  "kernelspec": {
   "display_name": "Python 3 (ipykernel)",
   "language": "python",
   "name": "python3"
  },
  "language_info": {
   "codemirror_mode": {
    "name": "ipython",
    "version": 3
   },
   "file_extension": ".py",
   "mimetype": "text/x-python",
   "name": "python",
   "nbconvert_exporter": "python",
   "pygments_lexer": "ipython3",
   "version": "3.13.5"
  }
 },
 "nbformat": 4,
 "nbformat_minor": 5
}
