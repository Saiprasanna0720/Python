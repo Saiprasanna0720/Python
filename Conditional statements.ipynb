{
 "cells": [
  {
   "cell_type": "markdown",
   "id": "2c8e8fb2-1b06-4084-b06b-3e633cd8f402",
   "metadata": {},
   "source": [
    "# conditional statements or decision making\n",
    "1.if\n",
    "2.if -else\n",
    "3.if elif else\n",
    "if conditional statement:print the result if condition is true otherwise it will print outside of the block of sataments"
   ]
  },
  {
   "cell_type": "markdown",
   "id": "5b903962-81b5-490e-be34-85e1cb9c0cdf",
   "metadata": {},
   "source": [
    "# if condition syntax\n",
    "if condition:\n",
    "     # if block statements\n",
    "otherwise\n",
    "  # outside block statements"
   ]
  },
  {
   "cell_type": "code",
   "execution_count": 1,
   "id": "114b4d1a-d791-42f0-8180-70c9089c446e",
   "metadata": {},
   "outputs": [
    {
     "name": "stdout",
     "output_type": "stream",
     "text": [
      "False\n"
     ]
    }
   ],
   "source": [
    "# if conditional statement example\n",
    "a=10\n",
    "b=20\n",
    "if a==20:\n",
    "    print(\"True\")\n",
    "print(\"False\")"
   ]
  },
  {
   "cell_type": "code",
   "execution_count": 4,
   "id": "52a531ae-725a-4d8b-ad9b-0ceb0ce73334",
   "metadata": {},
   "outputs": [
    {
     "name": "stdin",
     "output_type": "stream",
     "text": [
      " 0\n"
     ]
    },
    {
     "name": "stdout",
     "output_type": "stream",
     "text": [
      "the number is zero\n",
      "program done\n"
     ]
    }
   ],
   "source": [
    "num=int(input())\n",
    "if num==0:\n",
    "    print(\"the number is zero\")\n",
    "print(\"program done\")"
   ]
  },
  {
   "cell_type": "markdown",
   "id": "73af4654-a192-4acc-8146-dd7ea18ba2f4",
   "metadata": {},
   "source": [
    "# if -else conditional statement syntax\n",
    "if condition:\n",
    "    # if block code\n",
    "else:\n",
    "    # else block code\n",
    "# if the condition is true means it will execute if block statments otherwise it will execute else block statements\n"
   ]
  },
  {
   "cell_type": "code",
   "execution_count": 6,
   "id": "2143fb8d-06a9-498e-9349-b2b82868562b",
   "metadata": {},
   "outputs": [
    {
     "name": "stdin",
     "output_type": "stream",
     "text": [
      " 9\n"
     ]
    },
    {
     "name": "stdout",
     "output_type": "stream",
     "text": [
      "the number is not Zero\n"
     ]
    }
   ],
   "source": [
    "num=int(input())\n",
    "if num==0:\n",
    "    print(\"the number is zero\")\n",
    "else:\n",
    "    print(\"the number is not Zero\")"
   ]
  },
  {
   "cell_type": "code",
   "execution_count": 8,
   "id": "869ccf91-7b9a-4aa9-996f-a4b6d618c6db",
   "metadata": {},
   "outputs": [
    {
     "name": "stdin",
     "output_type": "stream",
     "text": [
      " 89\n"
     ]
    },
    {
     "name": "stdout",
     "output_type": "stream",
     "text": [
      "The age is 89 so ,Eligible for vote\n"
     ]
    }
   ],
   "source": [
    "# checking wheather the person is eligible for vote or not\n",
    "person_age=int(input())\n",
    "if person_age>=18:\n",
    "    print(f\"The age is {person_age} so ,Eligible for vote\")\n",
    "else:\n",
    "    print(f\" the age is {person_age} so,Not eligible for vote\")"
   ]
  },
  {
   "cell_type": "code",
   "execution_count": 10,
   "id": "3b311e05-20f4-4ea8-9325-c45fcd6d1277",
   "metadata": {},
   "outputs": [
    {
     "name": "stdin",
     "output_type": "stream",
     "text": [
      " -1\n"
     ]
    },
    {
     "name": "stdout",
     "output_type": "stream",
     "text": [
      "The number is -1 so,it is Not positive\n"
     ]
    }
   ],
   "source": [
    "# checking the number is positive or negative\n",
    "num=int(input())\n",
    "if num>=0:\n",
    "    print(f\"The number is {num} so, it is Positive number\")\n",
    "else:\n",
    "    print(f\"The number is {num} so,it is Not positive\")"
   ]
  },
  {
   "cell_type": "code",
   "execution_count": 19,
   "id": "0e48153d-b083-4e04-806e-9087c3e866b8",
   "metadata": {},
   "outputs": [
    {
     "name": "stdin",
     "output_type": "stream",
     "text": [
      " 2100\n"
     ]
    },
    {
     "name": "stdout",
     "output_type": "stream",
     "text": [
      "year is 2100 so, it is leap year\n"
     ]
    }
   ],
   "source": [
    "num=int(input())\n",
    "if num%4==0:\n",
    "    print(f\"year is {num} so, it is leap year\")\n",
    "elif num % 4==0 and num %400==0:\n",
    "    print(f\"year is {num} so, it is leap year\")\n",
    "elif num %4==0 and num%100!=0:\n",
    "    print(f\"year is {num} so ,it is not  leap year\")\n",
    "else:\n",
    "    print(f\"year is {num} so ,Not a leap year\")\n",
    "          "
   ]
  },
  {
   "cell_type": "code",
   "execution_count": null,
   "id": "1c775b7d-6fd3-4f66-adb4-b6f33e4ba226",
   "metadata": {},
   "outputs": [],
   "source": [
    "## find greater of two numbers\n",
    "#find largest among three numbers\n",
    "#"
   ]
  }
 ],
 "metadata": {
  "kernelspec": {
   "display_name": "Python 3 (ipykernel)",
   "language": "python",
   "name": "python3"
  },
  "language_info": {
   "codemirror_mode": {
    "name": "ipython",
    "version": 3
   },
   "file_extension": ".py",
   "mimetype": "text/x-python",
   "name": "python",
   "nbconvert_exporter": "python",
   "pygments_lexer": "ipython3",
   "version": "3.13.5"
  }
 },
 "nbformat": 4,
 "nbformat_minor": 5
}
