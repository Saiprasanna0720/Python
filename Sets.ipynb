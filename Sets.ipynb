{
 "cells": [
  {
   "cell_type": "markdown",
   "id": "dfee8581-f5f8-4e18-9e2f-11d83f466db9",
   "metadata": {},
   "source": [
    "## Sets\n",
    "- Set is unordered collection of different data type elements\n",
    "- It is defined with '{}'\n",
    "- Set is mutable\n",
    "- set is not index based\n",
    "- No duplicate values only unique values and hashable value"
   ]
  },
  {
   "cell_type": "code",
   "execution_count": 1,
   "id": "6fe2773f-e882-467c-8736-a677b37bbc05",
   "metadata": {},
   "outputs": [
    {
     "name": "stdout",
     "output_type": "stream",
     "text": [
      "{1, 2, 'codegnan', 4.5, 'A', 30}\n"
     ]
    }
   ],
   "source": [
    "s={1,2,30,'codegnan','A',4.5}\n",
    "print(s)"
   ]
  },
  {
   "cell_type": "code",
   "execution_count": 2,
   "id": "3dcd98fd-1a60-48b5-9819-75a60d54c5e7",
   "metadata": {},
   "outputs": [
    {
     "name": "stdout",
     "output_type": "stream",
     "text": [
      "<class 'dict'> <class 'set'>\n"
     ]
    }
   ],
   "source": [
    "#creating empty set\n",
    "s1={}\n",
    "s2=set()# this is the only method to create set\n",
    "print(type(s1),type(s2))"
   ]
  },
  {
   "cell_type": "code",
   "execution_count": 3,
   "id": "1078a9e5-f3d0-494e-89e5-4cf843e680d0",
   "metadata": {},
   "outputs": [
    {
     "ename": "TypeError",
     "evalue": "unhashable type: 'list'",
     "output_type": "error",
     "traceback": [
      "\u001b[31m---------------------------------------------------------------------------\u001b[39m",
      "\u001b[31mTypeError\u001b[39m                                 Traceback (most recent call last)",
      "\u001b[36mCell\u001b[39m\u001b[36m \u001b[39m\u001b[32mIn[3]\u001b[39m\u001b[32m, line 1\u001b[39m\n\u001b[32m----> \u001b[39m\u001b[32m1\u001b[39m s={\u001b[32m1\u001b[39m,\u001b[32m2\u001b[39m,\u001b[32m30\u001b[39m,\u001b[33m'\u001b[39m\u001b[33mcodegnan\u001b[39m\u001b[33m'\u001b[39m,\u001b[33m'\u001b[39m\u001b[33mA\u001b[39m\u001b[33m'\u001b[39m,[\u001b[32m4.5\u001b[39m]}\n",
      "\u001b[31mTypeError\u001b[39m: unhashable type: 'list'"
     ]
    }
   ],
   "source": [
    "s={1,2,30,'codegnan','A',[4.5]}\n",
    "#list is unhashable so that it cannot be added in a set"
   ]
  },
  {
   "cell_type": "code",
   "execution_count": 4,
   "id": "d8762053-5aa0-477b-acb0-89b27ec777a9",
   "metadata": {},
   "outputs": [
    {
     "name": "stdout",
     "output_type": "stream",
     "text": [
      "{1, 2, 3, 4, 5, 6}\n"
     ]
    }
   ],
   "source": [
    "#sets allow only unique values\n",
    "st={1,2,3,2,4,5,6,3}\n",
    "print(st)"
   ]
  },
  {
   "cell_type": "code",
   "execution_count": 7,
   "id": "bfaf4ebc-aa08-43fc-92d6-90fbcce43d5a",
   "metadata": {},
   "outputs": [
    {
     "name": "stdin",
     "output_type": "stream",
     "text": [
      " 1 2 5 34 87 \n"
     ]
    },
    {
     "name": "stdout",
     "output_type": "stream",
     "text": [
      "{1, 2, 34, 5, 87}\n"
     ]
    }
   ],
   "source": [
    "#read set of integers from user\n",
    "s=set(map(int,input().split()))\n",
    "print(s)\n"
   ]
  },
  {
   "cell_type": "code",
   "execution_count": 8,
   "id": "05917bca-6727-43b7-b165-44fbdb7df3ed",
   "metadata": {},
   "outputs": [
    {
     "name": "stdin",
     "output_type": "stream",
     "text": [
      " a m  1 4 56 39 \n"
     ]
    },
    {
     "name": "stdout",
     "output_type": "stream",
     "text": [
      "{'a', '39', '4', 'm', '56', '1'}\n"
     ]
    }
   ],
   "source": [
    "s=set(map(str,input().split()))\n",
    "print(s)"
   ]
  },
  {
   "cell_type": "markdown",
   "id": "81620e0f-3343-40e0-936a-057a3a682d4d",
   "metadata": {},
   "source": [
    "# Operations"
   ]
  },
  {
   "cell_type": "markdown",
   "id": "03fe011c-34f3-4113-9f36-744f350fd4b3",
   "metadata": {},
   "source": [
    "- union:-consider all elements from two set without repeating common elements.\n",
    "- intersection:-common elements from a and b.\n",
    "- difference:-elements in one set but not in the other and eliminate common values.\n",
    "- symmetic difference:-all elements from A and B but not from common elements.\n",
    "- subset:-the all set 'B' elements are present in set 'A' then set 'B' is subset of set 'A'.\n",
    "- superset:-if set 'B' all elements are present in set 'A' then set 'A' is super set of set 'B'\n",
    "- disjoint set:-there is no common elements between two set those sets are called as disjoint sets. "
   ]
  },
  {
   "cell_type": "code",
   "execution_count": 3,
   "id": "a785bcfe-11dd-4604-a20a-a81dbc8c837e",
   "metadata": {},
   "outputs": [
    {
     "name": "stdout",
     "output_type": "stream",
     "text": [
      "{1, 2, 3, 4, 5, 6}\n"
     ]
    }
   ],
   "source": [
    "#union\n",
    "s1={1,2,3,4}\n",
    "s2={3,4,5,6}\n",
    "union=s1.union(s2)\n",
    "print(union)"
   ]
  },
  {
   "cell_type": "code",
   "execution_count": 4,
   "id": "a2f22b68-0ee2-4d0f-a9c6-012efc147afc",
   "metadata": {},
   "outputs": [
    {
     "name": "stdout",
     "output_type": "stream",
     "text": [
      "{3, 4}\n"
     ]
    }
   ],
   "source": [
    "#intersection\n",
    "s1={1,2,3,4}\n",
    "s2={3,4,5,6}\n",
    "intersection=s1.intersection(s2)\n",
    "print(intersection)"
   ]
  },
  {
   "cell_type": "code",
   "execution_count": 5,
   "id": "94a8c75d-8886-45ff-8338-e22dbd1c88e1",
   "metadata": {},
   "outputs": [
    {
     "name": "stdout",
     "output_type": "stream",
     "text": [
      "{1, 2}\n"
     ]
    }
   ],
   "source": [
    "#difference\n",
    "s1={1,2,3,4}\n",
    "s2={3,4,5,6}\n",
    "difference=s1.difference(s2)\n",
    "print(difference)\n"
   ]
  },
  {
   "cell_type": "code",
   "execution_count": 6,
   "id": "aa8e74f3-6cbe-4800-88ec-5cf4e6b9c51c",
   "metadata": {},
   "outputs": [
    {
     "name": "stdout",
     "output_type": "stream",
     "text": [
      "{1, 2, 5, 6}\n"
     ]
    }
   ],
   "source": [
    "#symmetric difference\n",
    "s1={1,2,3,4}\n",
    "s2={3,4,5,6}\n",
    "symmetric_difference=s1.symmetric_difference(s2)\n",
    "print(symmetric_difference)\n"
   ]
  },
  {
   "cell_type": "code",
   "execution_count": 7,
   "id": "4c3f82b9-074b-4db4-81e9-9c5e21975a68",
   "metadata": {},
   "outputs": [
    {
     "name": "stdout",
     "output_type": "stream",
     "text": [
      "False\n"
     ]
    }
   ],
   "source": [
    "#subset\n",
    "s1={1,2,3,4,5,6}\n",
    "s2={4,6}\n",
    "print(s1.issubset(s2))\n"
   ]
  },
  {
   "cell_type": "code",
   "execution_count": 8,
   "id": "75a52041-9c4d-487a-a6b3-3c2f0c3c5ac1",
   "metadata": {},
   "outputs": [
    {
     "name": "stdout",
     "output_type": "stream",
     "text": [
      "True\n"
     ]
    }
   ],
   "source": [
    "print(s2.issubset(s1))\n"
   ]
  },
  {
   "cell_type": "code",
   "execution_count": 9,
   "id": "7064bc89-2213-4bdf-8d83-e8cf63b676f2",
   "metadata": {},
   "outputs": [
    {
     "name": "stdout",
     "output_type": "stream",
     "text": [
      "True\n"
     ]
    }
   ],
   "source": [
    "#superset\n",
    "s1={1,2,3,4,5,6}\n",
    "s2={4,6}\n",
    "print(s1.issuperset(s2))"
   ]
  },
  {
   "cell_type": "code",
   "execution_count": 11,
   "id": "562c9135-7fc5-4281-a86f-6039c0a59620",
   "metadata": {},
   "outputs": [
    {
     "name": "stdout",
     "output_type": "stream",
     "text": [
      "False\n"
     ]
    }
   ],
   "source": [
    "#disjoint\n",
    "s1={1,2,3,4,5,6}\n",
    "s2={4,6}\n",
    "print(s1.isdisjoint(s2))\n"
   ]
  },
  {
   "cell_type": "markdown",
   "id": "41135491-b248-473c-bd8b-e6dd0268347e",
   "metadata": {},
   "source": [
    "### set methods\n",
    "- add(ele): adds a element to set\n",
    "- update(iterable):update the current set with new iterable elements.\n",
    "- remove(ele):removes the element from set otherwise keyError.\n",
    "- discard(ele):removes elements from set ,otherwise does nothing.\n",
    "- pop(): removes the random element from set\n",
    "- clear(): removes all eelments from set"
   ]
  },
  {
   "cell_type": "code",
   "execution_count": 12,
   "id": "29f828a3-4a20-47be-ba56-afc70775038c",
   "metadata": {},
   "outputs": [
    {
     "name": "stdout",
     "output_type": "stream",
     "text": [
      "original set: {1, 2, 3, 4}\n"
     ]
    }
   ],
   "source": [
    "#add(ele)\n",
    "s={1,2,3,4}\n",
    "print(\"original set:\",s)"
   ]
  },
  {
   "cell_type": "code",
   "execution_count": 13,
   "id": "2e73d437-0c3f-4d2d-be4b-5526efefe5a3",
   "metadata": {},
   "outputs": [
    {
     "name": "stdout",
     "output_type": "stream",
     "text": [
      "after add operation: {1, 2, 3, 100, 4}\n"
     ]
    }
   ],
   "source": [
    "s.add(100)\n",
    "print(\"after add operation:\",s)\n"
   ]
  },
  {
   "cell_type": "code",
   "execution_count": 14,
   "id": "29ebe626-c92f-4398-9d7e-5af9a41b3fff",
   "metadata": {},
   "outputs": [
    {
     "name": "stdout",
     "output_type": "stream",
     "text": [
      "after update operation: {1, 2, 3, 100, 4}\n"
     ]
    }
   ],
   "source": [
    "#UPDATE(ITERABLE)\n",
    "s.update([1,2,3])\n",
    "print(\"after update operation:\",s)\n"
   ]
  },
  {
   "cell_type": "code",
   "execution_count": 15,
   "id": "90f37407-3996-4f48-81af-9bed964301f4",
   "metadata": {},
   "outputs": [
    {
     "name": "stdout",
     "output_type": "stream",
     "text": [
      "after remove operation: {1, 3, 100, 4}\n"
     ]
    }
   ],
   "source": [
    "#REMOVE(ELE)\n",
    "s.remove(2)\n",
    "print(\"after remove operation:\",s)\n"
   ]
  },
  {
   "cell_type": "code",
   "execution_count": 16,
   "id": "4b5f948f-3d64-4abe-b473-2dbebc819a81",
   "metadata": {},
   "outputs": [
    {
     "name": "stdout",
     "output_type": "stream",
     "text": [
      "after discard operation: {1, 3, 100, 4}\n"
     ]
    }
   ],
   "source": [
    "#DISCARD(ELE)\n",
    "s.discard(20)\n",
    "print(\"after discard operation:\",s)\n"
   ]
  },
  {
   "cell_type": "code",
   "execution_count": 19,
   "id": "20892ec0-ce52-4757-87b2-18aa0ee01d21",
   "metadata": {},
   "outputs": [
    {
     "name": "stdout",
     "output_type": "stream",
     "text": [
      "{4}\n"
     ]
    }
   ],
   "source": [
    "#pop()\n",
    "s.pop()\n",
    "print(s)\n"
   ]
  },
  {
   "cell_type": "code",
   "execution_count": 20,
   "id": "eabb3a90-888e-4b92-b950-a62483c62572",
   "metadata": {},
   "outputs": [
    {
     "name": "stdout",
     "output_type": "stream",
     "text": [
      "set()\n"
     ]
    }
   ],
   "source": [
    "#clear()\n",
    "s.clear()\n",
    "print(s)"
   ]
  },
  {
   "cell_type": "code",
   "execution_count": null,
   "id": "7cabcf53-c7bc-482b-b349-477052a551c1",
   "metadata": {},
   "outputs": [],
   "source": []
  }
 ],
 "metadata": {
  "kernelspec": {
   "display_name": "Python 3 (ipykernel)",
   "language": "python",
   "name": "python3"
  },
  "language_info": {
   "codemirror_mode": {
    "name": "ipython",
    "version": 3
   },
   "file_extension": ".py",
   "mimetype": "text/x-python",
   "name": "python",
   "nbconvert_exporter": "python",
   "pygments_lexer": "ipython3",
   "version": "3.13.5"
  }
 },
 "nbformat": 4,
 "nbformat_minor": 5
}
