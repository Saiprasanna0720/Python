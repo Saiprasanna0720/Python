{
 "cells": [
  {
   "cell_type": "code",
   "execution_count": 1,
   "id": "583a310c-e3d5-4223-a019-cdb9b53012b7",
   "metadata": {},
   "outputs": [
    {
     "name": "stdout",
     "output_type": "stream",
     "text": [
      "    Prasanna    \n",
      "Prasanna\n",
      "Prasanna    \n",
      "    Prasanna\n"
     ]
    }
   ],
   "source": [
    "#Removing white spaces\n",
    "#-strip()-it removes the leading and lagging in the string\n",
    "#lstrip()-it removes leading white spaces\n",
    "#rstrip()-it removes the lagging white spaces\n",
    "\n",
    "s='    Prasanna    '\n",
    "print(s)\n",
    "print(s.strip())\n",
    "print(s.lstrip())\n",
    "print(s.rstrip())"
   ]
  },
  {
   "cell_type": "code",
   "execution_count": 8,
   "id": "e2d3aaea-6441-40e3-9ec3-8e9285b31669",
   "metadata": {},
   "outputs": [
    {
     "name": "stdout",
     "output_type": "stream",
     "text": [
      "Prasanna\n"
     ]
    }
   ],
   "source": [
    "s='$$$Prasanna$$$$'\n",
    "print(s.strip('$'))"
   ]
  },
  {
   "cell_type": "code",
   "execution_count": 15,
   "id": "d852dab8-a727-43a0-92cf-05e1df5043df",
   "metadata": {},
   "outputs": [
    {
     "name": "stdout",
     "output_type": "stream",
     "text": [
      "alice^^bob!!@\n",
      "!!!!&&&&alice^^bob!!@\n",
      "!!!!&&&&alice^^bob!!@\n"
     ]
    }
   ],
   "source": [
    "s='!!!!&&&&alice^^bob!!@'\n",
    "print(s.strip('!&^^'))\n",
    "print(s.lstrip())\n",
    "print(s.rstrip())\n"
   ]
  },
  {
   "cell_type": "code",
   "execution_count": 16,
   "id": "a063a195-92e2-4e78-9104-a99264e9a007",
   "metadata": {},
   "outputs": [
    {
     "name": "stdout",
     "output_type": "stream",
     "text": [
      "['my', 'name', 'is', 'Prasanna']\n"
     ]
    }
   ],
   "source": [
    "#Split()-cover the string into list of substrings as per delimiter\n",
    "#syntax-split()\n",
    "s=\"my name is Prasanna\"\n",
    "print(s.split())"
   ]
  },
  {
   "cell_type": "code",
   "execution_count": 19,
   "id": "423b1d60-ab17-43d6-b8de-b6b35389c445",
   "metadata": {},
   "outputs": [
    {
     "data": {
      "text/plain": [
       "['my name is P', 'asanna']"
      ]
     },
     "execution_count": 19,
     "metadata": {},
     "output_type": "execute_result"
    }
   ],
   "source": [
    "s.split('r')"
   ]
  },
  {
   "cell_type": "code",
   "execution_count": 21,
   "id": "27a62e2d-b010-4cc6-8eb4-9227e7b42fbc",
   "metadata": {},
   "outputs": [
    {
     "data": {
      "text/plain": [
       "['my name is Prasanna']"
      ]
     },
     "execution_count": 21,
     "metadata": {},
     "output_type": "execute_result"
    }
   ],
   "source": [
    "s.split('k')"
   ]
  },
  {
   "cell_type": "code",
   "execution_count": 31,
   "id": "b0cd021b-1ee4-4991-9ede-9976353a5671",
   "metadata": {},
   "outputs": [
    {
     "name": "stdout",
     "output_type": "stream",
     "text": [
      "Mynameisprasanna\n"
     ]
    }
   ],
   "source": [
    "##Join()\n",
    "s=\"My\" \"name\" \"is\" \"prasanna\"\n",
    "print(\"\".join(s))"
   ]
  },
  {
   "cell_type": "code",
   "execution_count": 32,
   "id": "7b1f1ead-0791-4c37-99eb-f1c5b66639a1",
   "metadata": {},
   "outputs": [
    {
     "name": "stdout",
     "output_type": "stream",
     "text": [
      "M_y_n_a_m_e_i_s_p_r_a_s_a_n_n_a\n",
      "M@y@n@a@m@e@i@s@p@r@a@s@a@n@n@a\n"
     ]
    }
   ],
   "source": [
    "print('_'.join(s))\n",
    "print('@'.join(s))"
   ]
  },
  {
   "cell_type": "code",
   "execution_count": 34,
   "id": "3da85109-d1db-4cbe-9ae9-808effffe87b",
   "metadata": {},
   "outputs": [
    {
     "name": "stdout",
     "output_type": "stream",
     "text": [
      "4\n",
      "12\n",
      "-1\n"
     ]
    }
   ],
   "source": [
    "###find()\n",
    "string=\"My name is prasanna\"\n",
    "print(string.find('a'))\n",
    "print(string.find('r'))\n",
    "print(string.find('z'))"
   ]
  },
  {
   "cell_type": "code",
   "execution_count": 36,
   "id": "5136be20-a304-4928-99fd-b367b0f194c9",
   "metadata": {},
   "outputs": [
    {
     "name": "stdout",
     "output_type": "stream",
     "text": [
      "My nkme is prksknnk\n"
     ]
    }
   ],
   "source": [
    "##replace()\n",
    "string=\"My name is prasanna\"\n",
    "print(string.replace(\"a\",\"k\"))\n"
   ]
  },
  {
   "cell_type": "code",
   "execution_count": 42,
   "id": "5620cbdc-49b8-4f6b-a35d-86441ff1a07d",
   "metadata": {},
   "outputs": [
    {
     "name": "stdout",
     "output_type": "stream",
     "text": [
      "True True False\n",
      "False True False\n",
      "False True True\n",
      "False\n"
     ]
    }
   ],
   "source": [
    "## checking functions\n",
    "#isalpha()returns true if str contains all alphabets \n",
    "#isalnum()returns true if str contains all alphabets or digits\n",
    "#isdigit()returns true if str contains all digit values\n",
    "\n",
    "s1='abcd'\n",
    "s2='21k61a0507'\n",
    "s3='9989018687'\n",
    "s4='123@abc'\n",
    "print(s1.isalpha(),s1.isalnum(),s1.isdigit())\n",
    "print(s2.isalpha(),s2.isalnum(),s2.isdigit())\n",
    "print(s3.isalpha(),s3.isalnum(),s3.isdigit())\n",
    "print(s4.isalpha())"
   ]
  },
  {
   "cell_type": "code",
   "execution_count": 44,
   "id": "f1c42e6d-c3a9-4df8-84ae-88b36b00c056",
   "metadata": {},
   "outputs": [
    {
     "name": "stdout",
     "output_type": "stream",
     "text": [
      "False\n"
     ]
    }
   ],
   "source": [
    "##string comparision\n",
    "str1='abcd'\n",
    "str2='absd'\n",
    "print(str1>str2)"
   ]
  },
  {
   "cell_type": "code",
   "execution_count": 47,
   "id": "3afef7ba-a085-452d-a511-72c5fa356637",
   "metadata": {},
   "outputs": [
    {
     "name": "stdout",
     "output_type": "stream",
     "text": [
      "False\n"
     ]
    }
   ],
   "source": [
    "str1='1234'\n",
    "str2='1345'\n",
    "print(str1>str2)"
   ]
  },
  {
   "cell_type": "code",
   "execution_count": null,
   "id": "83883475-dc31-4792-b217-3370c2518a99",
   "metadata": {},
   "outputs": [],
   "source": []
  },
  {
   "cell_type": "code",
   "execution_count": 48,
   "id": "55bc91b6-6d92-4f23-8d06-968e3cafb447",
   "metadata": {},
   "outputs": [
    {
     "name": "stdout",
     "output_type": "stream",
     "text": [
      "['c', 'o', 'd', 'e', 'g', 'n', 'a', 'n']\n"
     ]
    }
   ],
   "source": [
    "l=list('codegnan')\n",
    "print(l)"
   ]
  },
  {
   "cell_type": "code",
   "execution_count": 49,
   "id": "73c1b9ca-a8ae-403e-9c7f-1f99e9948331",
   "metadata": {},
   "outputs": [
    {
     "name": "stdout",
     "output_type": "stream",
     "text": [
      "{'d', 'a', 'o', 'e', 'c', 'g', 'n'}\n"
     ]
    }
   ],
   "source": [
    "l=set('codegnan')\n",
    "print(l)"
   ]
  }
 ],
 "metadata": {
  "kernelspec": {
   "display_name": "Python 3 (ipykernel)",
   "language": "python",
   "name": "python3"
  },
  "language_info": {
   "codemirror_mode": {
    "name": "ipython",
    "version": 3
   },
   "file_extension": ".py",
   "mimetype": "text/x-python",
   "name": "python",
   "nbconvert_exporter": "python",
   "pygments_lexer": "ipython3",
   "version": "3.13.5"
  }
 },
 "nbformat": 4,
 "nbformat_minor": 5
}
