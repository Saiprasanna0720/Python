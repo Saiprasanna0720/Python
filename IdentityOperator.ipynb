{
 "cells": [
  {
   "cell_type": "markdown",
   "id": "db27fefd-215b-404d-9fc3-cb57eec71897",
   "metadata": {},
   "source": [
    "# IdentityOperator\n",
    "-It checks the id of objects\n",
    "\n",
    "They are two types:-\n",
    "\n",
    "1)is:- it checks the id are same or not.\n",
    "\n",
    "2)is not:-opposite to is.\n",
    "\n"
   ]
  },
  {
   "cell_type": "code",
   "execution_count": 1,
   "id": "9325bf66-a7b2-4074-8da8-d04248483310",
   "metadata": {},
   "outputs": [
    {
     "name": "stdout",
     "output_type": "stream",
     "text": [
      "140730642613448\n"
     ]
    }
   ],
   "source": [
    "n=10\n",
    "print(id(n))"
   ]
  },
  {
   "cell_type": "code",
   "execution_count": 2,
   "id": "8b4fcc40-eb54-41e4-ab48-e0e080bd0b4a",
   "metadata": {},
   "outputs": [
    {
     "name": "stdout",
     "output_type": "stream",
     "text": [
      "140730642613768\n",
      "140730642613768\n"
     ]
    }
   ],
   "source": [
    "n1=20\n",
    "n2=20\n",
    "print(id(n1))\n",
    "print(id(n2))\n",
    "      "
   ]
  },
  {
   "cell_type": "code",
   "execution_count": 3,
   "id": "4d0e97c4-966e-43c2-a0d6-283429a5fadf",
   "metadata": {},
   "outputs": [
    {
     "name": "stdout",
     "output_type": "stream",
     "text": [
      "True\n"
     ]
    }
   ],
   "source": [
    "print(n1 is n2)"
   ]
  },
  {
   "cell_type": "code",
   "execution_count": 7,
   "id": "47f901ca-c078-496e-ba79-55b91a43be36",
   "metadata": {},
   "outputs": [
    {
     "name": "stdout",
     "output_type": "stream",
     "text": [
      "3220210212672\n",
      "3220210206912\n",
      "False\n"
     ]
    },
    {
     "data": {
      "text/plain": [
       "'Even though their contents are the same, Python does not always\\n                reuse memory for immutable objects like tuples'"
      ]
     },
     "execution_count": 7,
     "metadata": {},
     "output_type": "execute_result"
    }
   ],
   "source": [
    "a=(1,2,3)\n",
    "b=(1,2,3)\n",
    "print(id(a))\n",
    "print(id(b))\n",
    "print(a is b) \n",
    "#Even though their contents are the same, Python does not always\n",
    "#reuse memory for immutable objects like tuples"
   ]
  },
  {
   "cell_type": "code",
   "execution_count": 11,
   "id": "cd50f633-3b56-473b-8ca2-57b3b08cf3ea",
   "metadata": {},
   "outputs": [
    {
     "name": "stdout",
     "output_type": "stream",
     "text": [
      "3220210302272\n",
      "3220210205440\n",
      "False\n"
     ]
    }
   ],
   "source": [
    "a=[1,2,3]\n",
    "b=[1,2,3]\n",
    "print(id(a))\n",
    "print(id(b))\n",
    "print(a is b) "
   ]
  },
  {
   "cell_type": "code",
   "execution_count": 12,
   "id": "8be6a30e-8185-4aee-a465-c10929d49bdd",
   "metadata": {},
   "outputs": [
    {
     "name": "stdout",
     "output_type": "stream",
     "text": [
      "True\n"
     ]
    }
   ],
   "source": [
    "a=[1,2,3]\n",
    "b=a\n",
    "print(a is b) "
   ]
  },
  {
   "cell_type": "code",
   "execution_count": 13,
   "id": "3d8db177-b542-4024-9419-982d34b05d99",
   "metadata": {},
   "outputs": [
    {
     "name": "stdout",
     "output_type": "stream",
     "text": [
      "False\n"
     ]
    }
   ],
   "source": [
    "a=[1,2,3]\n",
    "b=a\n",
    "print(a is not b) "
   ]
  },
  {
   "cell_type": "code",
   "execution_count": 15,
   "id": "b1ba5a45-2faf-49f8-ac4c-6f6fc243ad64",
   "metadata": {},
   "outputs": [
    {
     "name": "stdout",
     "output_type": "stream",
     "text": [
      "True\n"
     ]
    }
   ],
   "source": [
    "a=(1,2,3)\n",
    "b=(1,2,3)\n",
    "print(a is not b) "
   ]
  },
  {
   "cell_type": "code",
   "execution_count": null,
   "id": "509941d4-1e39-4489-ae11-d46df8f3c1d2",
   "metadata": {},
   "outputs": [],
   "source": []
  },
  {
   "cell_type": "markdown",
   "id": "35988c4b-c0c4-452e-9728-90568428aa6f",
   "metadata": {},
   "source": []
  }
 ],
 "metadata": {
  "kernelspec": {
   "display_name": "Python 3 (ipykernel)",
   "language": "python",
   "name": "python3"
  },
  "language_info": {
   "codemirror_mode": {
    "name": "ipython",
    "version": 3
   },
   "file_extension": ".py",
   "mimetype": "text/x-python",
   "name": "python",
   "nbconvert_exporter": "python",
   "pygments_lexer": "ipython3",
   "version": "3.13.5"
  }
 },
 "nbformat": 4,
 "nbformat_minor": 5
}
